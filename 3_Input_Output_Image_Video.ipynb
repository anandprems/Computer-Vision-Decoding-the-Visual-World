{
 "cells": [
  {
   "cell_type": "markdown",
   "id": "72d0a366",
   "metadata": {},
   "source": [
    "## Stored Image"
   ]
  },
  {
   "cell_type": "code",
   "execution_count": 1,
   "id": "8df19d9e",
   "metadata": {},
   "outputs": [],
   "source": [
    "import cv2\n",
    "\n",
    "img = cv2.imread('python_.png')\n",
    "\n",
    "cv2.imwrite('python_out.png', img)\n",
    "\n",
    "cv2.imshow('image', img)\n",
    "cv2.waitKey(0)\n",
    "cv2.destroyAllWindows()"
   ]
  },
  {
   "cell_type": "markdown",
   "id": "daf13bc7",
   "metadata": {},
   "source": [
    "## Stored Video"
   ]
  },
  {
   "cell_type": "code",
   "execution_count": 2,
   "id": "eb652953",
   "metadata": {},
   "outputs": [],
   "source": [
    "import cv2\n",
    "\n",
    "video = cv2.VideoCapture('cat_videos.mp4')\n",
    "\n",
    "ret = True\n",
    "while ret:\n",
    "    ret, frame = video.read()\n",
    "\n",
    "    if ret:\n",
    "        cv2.imshow('frame', frame)\n",
    "        cv2.waitKey(40)  #1000 ms / 40 ms = 25 fps\n",
    "        \n",
    "video.release()\n",
    "cv2.destroyAllWindows()"
   ]
  },
  {
   "cell_type": "markdown",
   "id": "834691e4",
   "metadata": {},
   "source": [
    " ## From WebCam"
   ]
  },
  {
   "cell_type": "code",
   "execution_count": 3,
   "id": "2120fffa",
   "metadata": {},
   "outputs": [],
   "source": [
    "import cv2\n",
    "\n",
    "webcam = cv2.VideoCapture(0)\n",
    "\n",
    "if not webcam.isOpened():\n",
    "    print(\"Error: Could not open webcam.\")\n",
    "else:\n",
    "    while True:\n",
    "        ret, frame = webcam.read()\n",
    "\n",
    "        if not ret:\n",
    "            print(\"Error: Failed to capture frame. Check webcam index.\")\n",
    "            break\n",
    "\n",
    "        if frame is not None and frame.shape[0] > 0 and frame.shape[1] > 0:\n",
    "            cv2.imshow('frame', frame)\n",
    "        else:\n",
    "            print(\"Error: Captured frame is empty or invalid.\")\n",
    "            break\n",
    "        \n",
    "        if cv2.waitKey(40) & 0xFF == ord('q'):\n",
    "            break\n",
    "\n",
    "webcam.release()\n",
    "cv2.destroyAllWindows()"
   ]
  },
  {
   "cell_type": "code",
   "execution_count": null,
   "id": "26ef8738",
   "metadata": {},
   "outputs": [],
   "source": []
  }
 ],
 "metadata": {
  "kernelspec": {
   "display_name": "Python 3 (ipykernel)",
   "language": "python",
   "name": "python3"
  },
  "language_info": {
   "codemirror_mode": {
    "name": "ipython",
    "version": 3
   },
   "file_extension": ".py",
   "mimetype": "text/x-python",
   "name": "python",
   "nbconvert_exporter": "python",
   "pygments_lexer": "ipython3",
   "version": "3.11.5"
  }
 },
 "nbformat": 4,
 "nbformat_minor": 5
}
