{
 "cells": [
  {
   "cell_type": "markdown",
   "id": "4e5883cb",
   "metadata": {},
   "source": [
    "## Official Weblink"
   ]
  },
  {
   "cell_type": "markdown",
   "id": "f1a74302",
   "metadata": {},
   "source": [
    "1. Official Website: https://opencv.org/ \n",
    "2. GitHub link: https://github.com/opencv/opencv"
   ]
  },
  {
   "cell_type": "markdown",
   "id": "fc671dd0",
   "metadata": {},
   "source": [
    "## What is OpenCV?"
   ]
  },
  {
   "cell_type": "markdown",
   "id": "48e4059c",
   "metadata": {},
   "source": [
    "1. OpenCV - Open Source Computer Vision \n",
    "2. Focused on Image Processing and Computer Vision\n",
    "3. Developed in 1999, Intel\n",
    "4. Used in robotics, augmented reality, machine learning, and autonomous vehicles"
   ]
  },
  {
   "cell_type": "markdown",
   "id": "f2e5178e",
   "metadata": {},
   "source": [
    "## Why OpenCV?"
   ]
  },
  {
   "cell_type": "markdown",
   "id": "746ea6b2",
   "metadata": {},
   "source": [
    "1. Simplifies complex computer vision tasks with easy-to-use functions and modules\n",
    "2. Provides real-time performance.\n",
    "3. Works seamlessly with other machine learning libraries and tools (like TensorFlow, PyTorch)."
   ]
  },
  {
   "cell_type": "markdown",
   "id": "5a425a0a",
   "metadata": {},
   "source": [
    "## Features of OpenCV"
   ]
  },
  {
   "cell_type": "markdown",
   "id": "0fcf1eec",
   "metadata": {},
   "source": [
    "1. Over 2,500 functions covering areas like image processing, video analysis, object detection, feature extraction, and more.\n",
    "2. Available on multiple platforms including Windows, Linux, macOS, Android, and iOS.\n",
    "3. Supports programming languages such as Python, C++, Java, and MATLAB, making it versatile for developers.\n",
    "4. OpenCV supports GPU acceleration with CUDA, OpenCL, and Vulkan, offering faster processing for real-time applications."
   ]
  },
  {
   "cell_type": "markdown",
   "id": "260ad49a",
   "metadata": {},
   "source": [
    "## Application"
   ]
  },
  {
   "cell_type": "markdown",
   "id": "cf0ccc02",
   "metadata": {},
   "source": [
    "1. Image Processing\n",
    "2. Computer Vision with Machine Learning\n",
    "3. Object Detection & Recognition (Face detection, Object tracking, face detection and object tracking in videos)\n",
    "4. Edge Detection and Contour Detection\n",
    "5. Augmented Reality\n",
    "6. Motion Detection and Tracking\n",
    "7. Real time scenario (Autonomous Vehicles, Surveillance Systems, Medical Imaging, Robotics, AR & VR,  )"
   ]
  },
  {
   "cell_type": "markdown",
   "id": "e2cd6572",
   "metadata": {},
   "source": [
    "## Installing libraries in the Notebook"
   ]
  },
  {
   "cell_type": "code",
   "execution_count": null,
   "id": "d1646294",
   "metadata": {},
   "outputs": [],
   "source": [
    "!pip install opencv-python"
   ]
  },
  {
   "cell_type": "code",
   "execution_count": null,
   "id": "b34d6ba1",
   "metadata": {},
   "outputs": [],
   "source": [
    "!pip install opencv-python-headless"
   ]
  },
  {
   "cell_type": "code",
   "execution_count": null,
   "id": "199e9404",
   "metadata": {},
   "outputs": [],
   "source": [
    "!pip install opencv-contrib-python"
   ]
  },
  {
   "cell_type": "markdown",
   "id": "1b07efe9",
   "metadata": {},
   "source": [
    "## Importing the libraries"
   ]
  },
  {
   "cell_type": "code",
   "execution_count": null,
   "id": "692ac1c2",
   "metadata": {},
   "outputs": [],
   "source": [
    "import cv2\n",
    "print(cv2.__version__)"
   ]
  },
  {
   "cell_type": "markdown",
   "id": "0644b5f4",
   "metadata": {},
   "source": [
    "## How to visualize sub-modules and functions in the library"
   ]
  },
  {
   "cell_type": "code",
   "execution_count": null,
   "id": "1fc1b51f",
   "metadata": {},
   "outputs": [],
   "source": [
    "import cv2\n",
    "print(dir(cv2))"
   ]
  },
  {
   "cell_type": "markdown",
   "id": "343ab4db",
   "metadata": {},
   "source": [
    "## Get help for single function "
   ]
  },
  {
   "cell_type": "code",
   "execution_count": null,
   "id": "be07b461",
   "metadata": {},
   "outputs": [],
   "source": [
    "help(cv2.imread)"
   ]
  },
  {
   "cell_type": "markdown",
   "id": "710094e3",
   "metadata": {},
   "source": [
    "## Upgrade or Downgrade to a Specific Version"
   ]
  },
  {
   "cell_type": "code",
   "execution_count": null,
   "id": "dd9273b0",
   "metadata": {},
   "outputs": [],
   "source": [
    "# for installing specific version\n",
    "pip install opencv-python==4.5.3"
   ]
  },
  {
   "cell_type": "markdown",
   "id": "ae515e1b",
   "metadata": {},
   "source": [
    "## Uninstalling the library"
   ]
  },
  {
   "cell_type": "code",
   "execution_count": null,
   "id": "5163a011",
   "metadata": {},
   "outputs": [],
   "source": [
    "pip uninstall opencv-python"
   ]
  }
 ],
 "metadata": {
  "kernelspec": {
   "display_name": "Python 3 (ipykernel)",
   "language": "python",
   "name": "python3"
  },
  "language_info": {
   "codemirror_mode": {
    "name": "ipython",
    "version": 3
   },
   "file_extension": ".py",
   "mimetype": "text/x-python",
   "name": "python",
   "nbconvert_exporter": "python",
   "pygments_lexer": "ipython3",
   "version": "3.11.5"
  }
 },
 "nbformat": 4,
 "nbformat_minor": 5
}
