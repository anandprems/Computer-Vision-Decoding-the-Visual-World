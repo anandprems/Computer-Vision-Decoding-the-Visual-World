{
 "cells": [
  {
   "cell_type": "markdown",
   "id": "ef86e4be",
   "metadata": {},
   "source": [
    "## Resizing"
   ]
  },
  {
   "cell_type": "code",
   "execution_count": null,
   "id": "674dda10",
   "metadata": {},
   "outputs": [],
   "source": [
    "import cv2\n",
    "\n",
    "img = cv2.imread('python_.png')\n",
    "\n",
    "resized_img = cv2.resize(img, (640, 640))\n",
    "\n",
    "print(\"Original image shape:\", img.shape)\n",
    "print(\"Resized image shape:\", resized_img.shape)\n",
    "\n",
    "cv2.imshow('Original Image', img)\n",
    "cv2.imshow('Resized Image', resized_img)\n",
    "cv2.waitKey(0)\n",
    "cv2.destroyAllWindows()"
   ]
  },
  {
   "cell_type": "markdown",
   "id": "8e6f0669",
   "metadata": {},
   "source": [
    "## Cropping"
   ]
  },
  {
   "cell_type": "code",
   "execution_count": null,
   "id": "8eb677aa",
   "metadata": {},
   "outputs": [],
   "source": [
    "import cv2\n",
    "\n",
    "img = cv2.imread('python_.png')\n",
    "\n",
    "print(\"Original image shape:\", img.shape)\n",
    "\n",
    "cropped_img = img[220:740, 320:940]\n",
    "\n",
    "cv2.imshow('Original Image', img)\n",
    "cv2.imshow('Cropped Image', cropped_img)\n",
    "cv2.waitKey(0)\n",
    "cv2.destroyAllWindows()"
   ]
  },
  {
   "cell_type": "markdown",
   "id": "a43bde71",
   "metadata": {},
   "source": [
    "## ColorSpace"
   ]
  },
  {
   "cell_type": "code",
   "execution_count": null,
   "id": "3c2a9131",
   "metadata": {},
   "outputs": [],
   "source": [
    "import cv2\n",
    "\n",
    "img = cv2.imread('python_.png')\n",
    "\n",
    "img_gray = cv2.cvtColor(img, cv2.COLOR_BGR2GRAY)\n",
    "img_rgb = cv2.cvtColor(img, cv2.COLOR_BGR2RGB)\n",
    "img_hsv = cv2.cvtColor(img, cv2.COLOR_BGR2HSV)\n",
    "\n",
    "cv2.imshow('Original Image', img)\n",
    "cv2.imshow('HSV Image', img_hsv)\n",
    "cv2.imshow('Gray Image', img_gray)\n",
    "cv2.imshow('RGB Image', img_rgb)\n",
    "\n",
    "cv2.waitKey(0)\n",
    "cv2.destroyAllWindows()"
   ]
  },
  {
   "cell_type": "markdown",
   "id": "c9ef735d",
   "metadata": {},
   "source": [
    "## Smoothing"
   ]
  },
  {
   "cell_type": "code",
   "execution_count": null,
   "id": "92846115",
   "metadata": {},
   "outputs": [],
   "source": [
    "import cv2\n",
    "\n",
    "img = cv2.imread('cow-salt-peper.png')\n",
    "\n",
    "k_size = 7\n",
    "\n",
    "img_blur = cv2.blur(img, (k_size, k_size))\n",
    "img_gaussian_blur = cv2.GaussianBlur(img, (k_size, k_size), 5)\n",
    "img_median_blur = cv2.medianBlur(img, k_size)\n",
    "\n",
    "cv2.imshow('Original Image', img)\n",
    "cv2.imshow('Blur Image', img_blur)\n",
    "cv2.imshow('Gaussian Blur Image', img_gaussian_blur)\n",
    "cv2.imshow('Median Blur Image', img_median_blur)\n",
    "cv2.waitKey(0)\n",
    "cv2.destroyAllWindows()"
   ]
  },
  {
   "cell_type": "markdown",
   "id": "3dad24c5",
   "metadata": {},
   "source": [
    "## Thresholding"
   ]
  },
  {
   "cell_type": "code",
   "execution_count": null,
   "id": "67c6df0a",
   "metadata": {},
   "outputs": [],
   "source": [
    "import cv2\n",
    "import numpy as np\n",
    "import matplotlib.pyplot as plt\n",
    "\n",
    "image_path = 'dhoni.png'  \n",
    "image = cv2.imread(image_path, cv2.IMREAD_GRAYSCALE)\n",
    "\n",
    "# Global Thresholding\n",
    "_, global_thresh = cv2.threshold(image, 128, 255, cv2.THRESH_BINARY)\n",
    "\n",
    "# Adaptive Thresholding\n",
    "adaptive_thresh = cv2.adaptiveThreshold(image, 255, cv2.ADAPTIVE_THRESH_GAUSSIAN_C,\n",
    "                                        cv2.THRESH_BINARY, 11, 2)\n",
    "\n",
    "# Otsu's Thresholding\n",
    "_, otsu_thresh = cv2.threshold(image, 0, 255, cv2.THRESH_BINARY + cv2.THRESH_OTSU)\n",
    "\n",
    "# Display the results\n",
    "plt.figure(figsize=(10, 7))\n",
    "\n",
    "plt.subplot(2, 2, 1)\n",
    "plt.title('Original Image')\n",
    "plt.imshow(image, cmap='gray')\n",
    "plt.axis('off')\n",
    "\n",
    "plt.subplot(2, 2, 2)\n",
    "plt.title('Global Thresholding')\n",
    "plt.imshow(global_thresh, cmap='gray')\n",
    "plt.axis('off')\n",
    "\n",
    "plt.subplot(2, 2, 3)\n",
    "plt.title('Adaptive Thresholding')\n",
    "plt.imshow(adaptive_thresh, cmap='gray')\n",
    "plt.axis('off')\n",
    "\n",
    "plt.subplot(2, 2, 4)\n",
    "plt.title(\"Otsu's Thresholding\")\n",
    "plt.imshow(otsu_thresh, cmap='gray')\n",
    "plt.axis('off')\n",
    "\n",
    "plt.tight_layout()\n",
    "plt.show()"
   ]
  },
  {
   "cell_type": "markdown",
   "id": "f29a8c6d",
   "metadata": {},
   "source": [
    "## Edge Detection"
   ]
  },
  {
   "cell_type": "code",
   "execution_count": null,
   "id": "e351a159",
   "metadata": {},
   "outputs": [],
   "source": [
    "import cv2\n",
    "import numpy as np\n",
    "\n",
    "img = cv2.imread('dhoni.png')\n",
    "\n",
    "img_edge = cv2.Canny(img, 100, 200)\n",
    "\n",
    "img_edge_d = cv2.dilate(img_edge, np.ones((3, 3), dtype=np.int8))\n",
    "\n",
    "img_edge_e = cv2.erode(img_edge_d, np.ones((3, 3), dtype=np.int8))\n",
    "\n",
    "cv2.imshow('Original Image', img)\n",
    "cv2.imshow('Edge Detected Image', img_edge)\n",
    "cv2.imshow('Dilated Edges', img_edge_d)\n",
    "cv2.imshow('Eroded Edges', img_edge_e)\n",
    "cv2.waitKey(0)\n",
    "cv2.destroyAllWindows()"
   ]
  },
  {
   "cell_type": "markdown",
   "id": "c858ed25",
   "metadata": {},
   "source": [
    "## Drawing"
   ]
  },
  {
   "cell_type": "code",
   "execution_count": null,
   "id": "e44de351",
   "metadata": {},
   "outputs": [],
   "source": [
    "import cv2\n",
    "\n",
    "img = cv2.imread('whiteboard.png')\n",
    "\n",
    "print(img.shape)\n",
    "\n",
    "cv2.line(img, (100, 150), (300, 450), (0, 255, 0), 3)\n",
    "\n",
    "cv2.rectangle(img, (200, 350), (450, 600), (0, 0, 255), -1)\n",
    "\n",
    "cv2.circle(img, (800, 200), 75, (255, 0, 0), 10)\n",
    "\n",
    "cv2.putText(img, 'Hey hi!', (600, 450), cv2.FONT_HERSHEY_SIMPLEX, 2, (255, 255, 0), 10)\n",
    "\n",
    "cv2.imshow('img', img)\n",
    "cv2.waitKey(0)\n",
    "cv2.destroyAllWindows()"
   ]
  },
  {
   "cell_type": "markdown",
   "id": "9119aad3",
   "metadata": {},
   "source": [
    "## Contouring"
   ]
  },
  {
   "cell_type": "code",
   "execution_count": null,
   "id": "1a316014",
   "metadata": {},
   "outputs": [],
   "source": [
    "import cv2\n",
    "\n",
    "img = cv2.imread('birds.jpg')\n",
    "\n",
    "img_gray = cv2.cvtColor(img, cv2.COLOR_BGR2GRAY)\n",
    "\n",
    "ret, thresh = cv2.threshold(img_gray, 127, 255, cv2.THRESH_BINARY_INV)\n",
    "\n",
    "contours, hierarchy = cv2.findContours(thresh, cv2.RETR_TREE, cv2.CHAIN_APPROX_SIMPLE)\n",
    "\n",
    "for cnt in contours:\n",
    "    if cv2.contourArea(cnt) > 200:\n",
    "        x1, y1, w, h = cv2.boundingRect(cnt)\n",
    "        cv2.rectangle(img, (x1, y1), (x1 + w, y1 + h), (0, 255, 0), 2)\n",
    "\n",
    "cv2.imshow('Original Image', img)\n",
    "cv2.imshow('Threshold Image', thresh)\n",
    "cv2.waitKey(0)\n",
    "cv2.destroyAllWindows()"
   ]
  },
  {
   "cell_type": "code",
   "execution_count": null,
   "id": "b7566f46",
   "metadata": {},
   "outputs": [],
   "source": []
  }
 ],
 "metadata": {
  "kernelspec": {
   "display_name": "Python 3 (ipykernel)",
   "language": "python",
   "name": "python3"
  },
  "language_info": {
   "codemirror_mode": {
    "name": "ipython",
    "version": 3
   },
   "file_extension": ".py",
   "mimetype": "text/x-python",
   "name": "python",
   "nbconvert_exporter": "python",
   "pygments_lexer": "ipython3",
   "version": "3.11.5"
  }
 },
 "nbformat": 4,
 "nbformat_minor": 5
}
